{
 "cells": [
  {
   "cell_type": "code",
   "execution_count": 7,
   "metadata": {},
   "outputs": [],
   "source": [
    "import pandas as pd"
   ]
  },
  {
   "cell_type": "code",
   "execution_count": 8,
   "metadata": {},
   "outputs": [],
   "source": [
    "df= pd.read_csv(\"total_crime_adhoc.csv\")"
   ]
  },
  {
   "cell_type": "code",
   "execution_count": 9,
   "metadata": {},
   "outputs": [
    {
     "data": {
      "text/plain": [
       "Index(['fips_state_county_code', 'less_than_hs', 'hs_diploma_only',\n",
       "       'some_college_or_associates', 'bachelors_or_higher', 'Living Wage',\n",
       "       'Poverty Wage', 'Minimum Wage', 'Employed_2019', 'Unemployed_2019',\n",
       "       'Median_Household_Income_2019',\n",
       "       'Med_HH_Income_Percent_of_State_Total_2019',\n",
       "       '5_year_unemployment_delta', 'population_2020', '10_year_pop_delta',\n",
       "       '20_year_pop_delta',\n",
       "       'rucc_Metro - Counties in metro areas of 1 million population or more                                                                                                                                         ',\n",
       "       'rucc_Metro - Counties in metro areas of 250,000 to 1 million population                                                                                                                                      ',\n",
       "       'rucc_Metro - Counties in metro areas of fewer than 250,000 population                                                                                                                                        ',\n",
       "       'rucc_Nonmetro - Completely rural or less than 2,500 urban population, adjacent to a metro area                                                                                                               ',\n",
       "       'rucc_Nonmetro - Completely rural or less than 2,500 urban population, not adjacent to a metro area                                                                                                           ',\n",
       "       'rucc_Nonmetro - Urban population of 2,500 to 19,999, adjacent to a metro area                                                                                                                                ',\n",
       "       'rucc_Nonmetro - Urban population of 2,500 to 19,999, not adjacent to a metro area                                                                                                                            ',\n",
       "       'rucc_Nonmetro - Urban population of 20,000 or more, adjacent to a metro area                                                                                                                                 ',\n",
       "       'rucc_Nonmetro - Urban population of 20,000 or more, not adjacent to a metro area                                                                                                                             ',\n",
       "       'total_crime_10k'],\n",
       "      dtype='object')"
      ]
     },
     "execution_count": 9,
     "metadata": {},
     "output_type": "execute_result"
    }
   ],
   "source": [
    "df.columns"
   ]
  },
  {
   "cell_type": "code",
   "execution_count": 10,
   "metadata": {},
   "outputs": [],
   "source": [
    "def to_10k(df, col):\n",
    "    df[f'{col}_10k'] = df[col] / df[\"population_2020\"] * 10000\n",
    "    return df[f'{col}_10k']"
   ]
  },
  {
   "cell_type": "code",
   "execution_count": 11,
   "metadata": {},
   "outputs": [],
   "source": [
    "columns_updated = ['less_than_hs', \"hs_diploma_only\", \"some_college_or_associates\", \"bachelors_or_higher\", \"Employed_2019\", \"Unemployed_2019\"]\n",
    "for i in columns_updated:\n",
    "    to_10k(df, i)\n",
    "    df.drop(i, axis=1, inplace=True)"
   ]
  },
  {
   "cell_type": "code",
   "execution_count": 12,
   "metadata": {},
   "outputs": [
    {
     "data": {
      "text/plain": [
       "Index(['fips_state_county_code', 'Living Wage', 'Poverty Wage', 'Minimum Wage',\n",
       "       'Median_Household_Income_2019',\n",
       "       'Med_HH_Income_Percent_of_State_Total_2019',\n",
       "       '5_year_unemployment_delta', 'population_2020', '10_year_pop_delta',\n",
       "       '20_year_pop_delta',\n",
       "       'rucc_Metro - Counties in metro areas of 1 million population or more                                                                                                                                         ',\n",
       "       'rucc_Metro - Counties in metro areas of 250,000 to 1 million population                                                                                                                                      ',\n",
       "       'rucc_Metro - Counties in metro areas of fewer than 250,000 population                                                                                                                                        ',\n",
       "       'rucc_Nonmetro - Completely rural or less than 2,500 urban population, adjacent to a metro area                                                                                                               ',\n",
       "       'rucc_Nonmetro - Completely rural or less than 2,500 urban population, not adjacent to a metro area                                                                                                           ',\n",
       "       'rucc_Nonmetro - Urban population of 2,500 to 19,999, adjacent to a metro area                                                                                                                                ',\n",
       "       'rucc_Nonmetro - Urban population of 2,500 to 19,999, not adjacent to a metro area                                                                                                                            ',\n",
       "       'rucc_Nonmetro - Urban population of 20,000 or more, adjacent to a metro area                                                                                                                                 ',\n",
       "       'rucc_Nonmetro - Urban population of 20,000 or more, not adjacent to a metro area                                                                                                                             ',\n",
       "       'total_crime_10k', 'less_than_hs_10k', 'hs_diploma_only_10k',\n",
       "       'some_college_or_associates_10k', 'bachelors_or_higher_10k',\n",
       "       'Employed_2019_10k', 'Unemployed_2019_10k'],\n",
       "      dtype='object')"
      ]
     },
     "execution_count": 12,
     "metadata": {},
     "output_type": "execute_result"
    }
   ],
   "source": [
    "df.columns"
   ]
  },
  {
   "cell_type": "code",
   "execution_count": null,
   "metadata": {},
   "outputs": [],
   "source": []
  },
  {
   "cell_type": "code",
   "execution_count": 13,
   "metadata": {},
   "outputs": [],
   "source": [
    "df.to_csv(\"total_crime_adhoc_10k.csv\")"
   ]
  }
 ],
 "metadata": {
  "interpreter": {
   "hash": "3b32922ae442944bae51de5c420d7545d4126864cdc0e7cb358b7d9924f39d3e"
  },
  "kernelspec": {
   "display_name": "Python 3.9.6 64-bit ('PythonData': conda)",
   "language": "python",
   "name": "python3"
  },
  "language_info": {
   "codemirror_mode": {
    "name": "ipython",
    "version": 3
   },
   "file_extension": ".py",
   "mimetype": "text/x-python",
   "name": "python",
   "nbconvert_exporter": "python",
   "pygments_lexer": "ipython3",
   "version": "3.9.6"
  },
  "orig_nbformat": 4
 },
 "nbformat": 4,
 "nbformat_minor": 2
}
