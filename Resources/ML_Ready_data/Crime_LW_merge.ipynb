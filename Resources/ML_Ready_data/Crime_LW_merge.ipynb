{
 "cells": [
  {
   "cell_type": "code",
   "execution_count": 1,
   "metadata": {},
   "outputs": [],
   "source": [
    "import pandas as pd"
   ]
  },
  {
   "cell_type": "code",
   "execution_count": 2,
   "metadata": {},
   "outputs": [],
   "source": [
    "crime_df = pd.read_csv(\"../Cleaned_Data/all_crime_merged.csv\")\n",
    "lw_df = pd.read_csv(\"../Cleaned_Data/LW_Data.csv\")"
   ]
  },
  {
   "cell_type": "code",
   "execution_count": 5,
   "metadata": {},
   "outputs": [],
   "source": [
    "lw_df = lw_df.rename(columns={\"Fips Code\": \"fips_state_county_code\"})"
   ]
  },
  {
   "cell_type": "code",
   "execution_count": 7,
   "metadata": {},
   "outputs": [],
   "source": [
    "df = crime_df.merge(lw_df, on=\"fips_state_county_code\", how=\"left\")"
   ]
  },
  {
   "cell_type": "code",
   "execution_count": 9,
   "metadata": {},
   "outputs": [
    {
     "data": {
      "text/plain": [
       "Index(['fips_state_county_code', 'population', 'agg_assault_tot_arrests',\n",
       "       'arson_tot_arrests', 'burglary_tot_arrests',\n",
       "       'mtr_veh_theft_tot_arrests', 'murder_tot_arrests', 'rape_tot_arrests',\n",
       "       'robbery_tot_arrests', 'theft_tot_arrests', 'sale_cannabis_tot_arrests',\n",
       "       'sale_heroin_coke_tot_arrests', 'sale_other_drug_tot_arrests',\n",
       "       'sale_synth_narc_tot_arrests', 'poss_cannabis_tot_arrests',\n",
       "       'poss_heroin_coke_tot_arrests', 'poss_other_drug_tot_arrests',\n",
       "       'poss_synth_narc_tot_arrests', 'all_other_tot_arrests',\n",
       "       'curfew_loiter_tot_arrests', 'disorder_cond_tot_arrests',\n",
       "       'family_off_tot_arrests', 'manslaught_neg_tot_arrests',\n",
       "       'oth_assault_tot_arrests', 'oth_sex_off_tot_arrests',\n",
       "       'prostitution_tot_arrests', 'runaways_tot_arrests',\n",
       "       'suspicion_tot_arrests', 'vagrancy_tot_arrests',\n",
       "       'vandalism_tot_arrests', 'weapons_tot_arrests', 'Living Wage',\n",
       "       'Poverty Wage', 'Minimum Wage'],\n",
       "      dtype='object')"
      ]
     },
     "execution_count": 9,
     "metadata": {},
     "output_type": "execute_result"
    }
   ],
   "source": [
    "df.columns"
   ]
  }
 ],
 "metadata": {
  "interpreter": {
   "hash": "3b32922ae442944bae51de5c420d7545d4126864cdc0e7cb358b7d9924f39d3e"
  },
  "kernelspec": {
   "display_name": "Python 3.9.6 64-bit ('PythonData': conda)",
   "language": "python",
   "name": "python3"
  },
  "language_info": {
   "codemirror_mode": {
    "name": "ipython",
    "version": 3
   },
   "file_extension": ".py",
   "mimetype": "text/x-python",
   "name": "python",
   "nbconvert_exporter": "python",
   "pygments_lexer": "ipython3",
   "version": "3.9.6"
  },
  "orig_nbformat": 4
 },
 "nbformat": 4,
 "nbformat_minor": 2
}
