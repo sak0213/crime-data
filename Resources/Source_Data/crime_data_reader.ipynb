{
 "cells": [
  {
   "cell_type": "code",
   "execution_count": 1,
   "metadata": {},
   "outputs": [],
   "source": [
    "import pandas as pd"
   ]
  },
  {
   "cell_type": "code",
   "execution_count": 2,
   "metadata": {},
   "outputs": [],
   "source": [
    "#find unzipped raw dta files from my downloads. downloaded from https://www.openicpsr.org/openicpsr/project/108164/version/V3/view\n",
    "path = '../../../../../OneDrive/Documents/ucr_arrests_yearly_data_1974_2020_dta/ucr_arrests_yearly_index_crimes_age_1974_2020.dta'\n",
    "drug = \"../../../../../OneDrive/Documents/ucr_arrests_yearly_data_1974_2020_dta/ucr_arrests_yearly_drug_crimes_age_1974_2020.dta\"\n",
    "other = \"../../../../../OneDrive/Documents/ucr_arrests_yearly_data_1974_2020_dta/ucr_arrests_yearly_other_crimes_age_1974_2020.dta\""
   ]
  },
  {
   "cell_type": "code",
   "execution_count": 3,
   "metadata": {},
   "outputs": [],
   "source": [
    "#Load into pd dataframes\n",
    "df_violent = pd.read_stata(path)\n",
    "df_drug = pd.read_stata(drug)\n",
    "df_other = pd.read_stata(other)"
   ]
  },
  {
   "cell_type": "code",
   "execution_count": 5,
   "metadata": {},
   "outputs": [],
   "source": [
    "#filter each sheet to show 2019 data\n",
    "df_violent = df_violent.loc[df_violent[\"year\"] == 2019]\n",
    "df_drug = df_drug.loc[df_drug['year']==2019]\n",
    "df_other = df_other.loc[df_other['year']==2019]"
   ]
  },
  {
   "cell_type": "code",
   "execution_count": 7,
   "metadata": {},
   "outputs": [],
   "source": [
    "#trim the data to only include the columns we want\n",
    "df_violent_trimmmed = df_violent[[\"ori\",\"ori9\",\"population\",\"agency_name\",\"year\",\"state\",'state_abb','population_group','country_division','fips_state_code','fips_county_code','fips_state_county_code','fips_place_code','longitude','latitude',\"agg_assault_tot_arrests\", \"arson_tot_arrests\", \"burglary_tot_arrests\", \"mtr_veh_theft_tot_arrests\", \"murder_tot_arrests\", \"rape_tot_arrests\", \"robbery_tot_arrests\", \"theft_tot_arrests\"]]\n",
    "df_drug_trimmed = df_drug[[\"ori\",\"ori9\",\"population\",\"agency_name\",\"year\",\"state\",'state_abb','population_group','country_division','fips_state_code','fips_county_code','fips_state_county_code','fips_place_code',\"sale_cannabis_tot_arrests\",\"sale_heroin_coke_tot_arrests\",\"sale_other_drug_tot_arrests\",\"sale_synth_narc_tot_arrests\",\"poss_cannabis_tot_arrests\",\"poss_heroin_coke_tot_arrests\",\"poss_other_drug_tot_arrests\",\"poss_synth_narc_tot_arrests\"]]\n",
    "df_other_trimmed = df_other[[\"ori\",\"ori9\",\"population\",\"agency_name\",\"year\",\"state\",'state_abb','population_group','country_division','fips_state_code','fips_county_code','fips_state_county_code','fips_place_code',\"all_other_tot_arrests\",\"curfew_loiter_tot_arrests\",\"disorder_cond_tot_arrests\",\"family_off_tot_arrests\",\"manslaught_neg_tot_arrests\",\"oth_assault_tot_arrests\",\"oth_sex_off_tot_arrests\",\"prostitution_tot_arrests\",\"runaways_tot_arrests\",\"suspicion_tot_arrests\",\"vagrancy_tot_arrests\",\"vandalism_tot_arrests\",\"weapons_tot_arrests\"]]"
   ]
  },
  {
   "cell_type": "code",
   "execution_count": 8,
   "metadata": {},
   "outputs": [],
   "source": [
    "#store as source CSVs\n",
    "df_violent_trimmmed.to_csv('violent_crime_trimmed.csv')\n",
    "df_drug_trimmed.to_csv('drug_crime_trimmed.csv')\n",
    "df_other_trimmed.to_csv('other_crime_trimmed.csv')"
   ]
  }
 ],
 "metadata": {
  "interpreter": {
   "hash": "3b32922ae442944bae51de5c420d7545d4126864cdc0e7cb358b7d9924f39d3e"
  },
  "kernelspec": {
   "display_name": "Python 3.9.6 64-bit ('PythonData': conda)",
   "language": "python",
   "name": "python3"
  },
  "language_info": {
   "codemirror_mode": {
    "name": "ipython",
    "version": 3
   },
   "file_extension": ".py",
   "mimetype": "text/x-python",
   "name": "python",
   "nbconvert_exporter": "python",
   "pygments_lexer": "ipython3",
   "version": "3.9.6"
  },
  "orig_nbformat": 4
 },
 "nbformat": 4,
 "nbformat_minor": 2
}
