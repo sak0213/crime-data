{
 "cells": [
  {
   "cell_type": "code",
   "execution_count": 45,
   "metadata": {},
   "outputs": [],
   "source": [
    "import pandas as pd"
   ]
  },
  {
   "cell_type": "code",
   "execution_count": 46,
   "metadata": {},
   "outputs": [],
   "source": [
    "lw_df = pd.read_csv('LW_Data.csv')\n",
    "edu_df = pd.read_csv('Education_Data.csv')\n",
    "employment_data = pd.read_csv('Employment_Data.csv')\n",
    "population_data = pd.read_csv('Population_Data.csv')"
   ]
  },
  {
   "cell_type": "code",
   "execution_count": 47,
   "metadata": {},
   "outputs": [
    {
     "name": "stdout",
     "output_type": "stream",
     "text": [
      "3526\n",
      "3215\n",
      "3214\n",
      "3219\n"
     ]
    }
   ],
   "source": [
    "print(len(lw_df))\n",
    "print(len(edu_df))\n",
    "print(len(employment_data))\n",
    "print(len(population_data))"
   ]
  },
  {
   "cell_type": "code",
   "execution_count": 48,
   "metadata": {},
   "outputs": [],
   "source": [
    "lw_df = lw_df.rename(columns={'Fips Code': 'fips_state_county_code'})\n",
    "edu_df = edu_df.rename(columns={'FIPS Code': 'fips_state_county_code'})\n",
    "employment_data = employment_data.rename(columns={'FIPS_Code': 'fips_state_county_code'})"
   ]
  },
  {
   "cell_type": "code",
   "execution_count": 49,
   "metadata": {},
   "outputs": [],
   "source": [
    "df = edu_df.merge(lw_df, on='fips_state_county_code', how = \"left\")\n",
    "df1 = df.merge(employment_data, on='fips_state_county_code', how = \"left\")\n",
    "df_main = df1.merge(population_data, on='fips_state_county_code', how = \"left\")"
   ]
  },
  {
   "cell_type": "code",
   "execution_count": 50,
   "metadata": {},
   "outputs": [],
   "source": [
    "#Tranlate RUCC codes to dummie columns\n",
    "df_main = pd.get_dummies(df_main, columns=['rucc'])"
   ]
  },
  {
   "cell_type": "code",
   "execution_count": 51,
   "metadata": {},
   "outputs": [],
   "source": [
    "df_main.to_csv('../ML_Ready_Data/county_data.csv', index=False)"
   ]
  }
 ],
 "metadata": {
  "interpreter": {
   "hash": "3b32922ae442944bae51de5c420d7545d4126864cdc0e7cb358b7d9924f39d3e"
  },
  "kernelspec": {
   "display_name": "Python 3.9.6 64-bit ('PythonData': conda)",
   "language": "python",
   "name": "python3"
  },
  "language_info": {
   "codemirror_mode": {
    "name": "ipython",
    "version": 3
   },
   "file_extension": ".py",
   "mimetype": "text/x-python",
   "name": "python",
   "nbconvert_exporter": "python",
   "pygments_lexer": "ipython3",
   "version": "3.9.6"
  },
  "orig_nbformat": 4
 },
 "nbformat": 4,
 "nbformat_minor": 2
}
