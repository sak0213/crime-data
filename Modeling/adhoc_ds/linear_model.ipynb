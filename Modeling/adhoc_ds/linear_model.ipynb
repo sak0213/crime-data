{
 "cells": [
  {
   "cell_type": "code",
   "execution_count": 2,
   "metadata": {},
   "outputs": [],
   "source": [
    "import pandas as pd\n",
    "import numpy as np\n",
    "import matplotlib.pyplot as plt"
   ]
  },
  {
   "cell_type": "code",
   "execution_count": 3,
   "metadata": {},
   "outputs": [],
   "source": [
    "df = pd.read_csv(\"../../Resources/ML_Ready_Data/total_crime_adhoc.csv\")"
   ]
  },
  {
   "cell_type": "code",
   "execution_count": 8,
   "metadata": {},
   "outputs": [],
   "source": [
    "from scipy import stats\n",
    "def normality_clean(df, z, col):\n",
    "    #check if col parameter is priovided\n",
    "    count_prior = len(df)\n",
    "    if col != None:\n",
    "        df = df.loc[df[col] > 0]\n",
    "        count_after = len(df)\n",
    "        print(f'Starting with {count_prior} rows, we have {count_after} rows after dropping dummies with 0 values')\n",
    "    #drop all n_bound outliers\n",
    "    df = df[(np.abs(stats.zscore(df)) < z).all(axis=1)]\n",
    "    return df"
   ]
  },
  {
   "cell_type": "code",
   "execution_count": 9,
   "metadata": {},
   "outputs": [
    {
     "name": "stdout",
     "output_type": "stream",
     "text": [
      "Starting with 3128 rows, we have 2851 rows after dropping dummies with 0 values\n"
     ]
    }
   ],
   "source": [
    "df_norm = normality_clean(df, 3, \"total_crime_10k\")"
   ]
  },
  {
   "cell_type": "code",
   "execution_count": 10,
   "metadata": {},
   "outputs": [],
   "source": [
    "def prep_X_y(df, y_col):\n",
    "    X = df.drop([y_col, \"fips_state_county_code\"], axis=1)\n",
    "    y = df[y_col]\n",
    "    return X, y"
   ]
  },
  {
   "cell_type": "code",
   "execution_count": 11,
   "metadata": {},
   "outputs": [],
   "source": [
    "from sklearn.model_selection import train_test_split\n",
    "from sklearn.preprocessing import StandardScaler"
   ]
  },
  {
   "cell_type": "code",
   "execution_count": 14,
   "metadata": {},
   "outputs": [],
   "source": [
    "X, y = prep_X_y(df_norm, \"total_crime_10k\")\n",
    "X_train, X_test, y_train, y_test = train_test_split(X, y, test_size=0.2, random_state=42)\n",
    "sc = StandardScaler()\n",
    "X_train = sc.fit_transform(X_train)\n",
    "X_test = sc.transform(X_test)"
   ]
  },
  {
   "cell_type": "code",
   "execution_count": 17,
   "metadata": {},
   "outputs": [
    {
     "data": {
      "image/png": "[encoded data removed]",
      "text/plain": [
       "<Figure size 432x288 with 1 Axes>"
      ]
     },
     "metadata": {
      "needs_background": "light"
     },
     "output_type": "display_data"
    },
    {
     "name": "stdout",
     "output_type": "stream",
     "text": [
      "Score: 0.12607770523149708\n",
      "Train Score: 0.13113753095708314\n"
     ]
    }
   ],
   "source": [
    "#begin linear reg\n",
    "from sklearn.linear_model import LinearRegression\n",
    "reg = LinearRegression()\n",
    "reg.fit(X_train, y_train)\n",
    "y_pred = reg.predict(X_test)\n",
    "plt.scatter(y_test, y_pred)\n",
    "plt.xlabel(\"True Values\")\n",
    "plt.ylabel(\"Predictions\")\n",
    "plt.show()\n",
    "#show score\n",
    "print(f\"Score: {reg.score(X_test, y_test)}\")\n",
    "# show train score\n",
    "print(f\"Train Score: {reg.score(X_train, y_train)}\")"
   ]
  },
  {
   "cell_type": "code",
   "execution_count": 17,
   "metadata": {},
   "outputs": [],
   "source": [
    "coefs = reg.coef_.tolist()"
   ]
  },
  {
   "cell_type": "code",
   "execution_count": 19,
   "metadata": {},
   "outputs": [
    {
     "data": {
      "text/plain": [
       "[14.139471123106603,\n",
       " 2.872892562346159,\n",
       " 68808826898247.48,\n",
       " -2.6011860444291575,\n",
       " -27.82689514850989,\n",
       " -10.211539804828783,\n",
       " -21.546522024426693,\n",
       " 2.813709889883791,\n",
       " 15.702891325750674,\n",
       " 5.998524632757295,\n",
       " 433927235948132.2,\n",
       " 466704881845101.56,\n",
       " 453329528443243.6,\n",
       " 112017247061287.83,\n",
       " 478613242380791.56,\n",
       " 560015197118831.4,\n",
       " 496680958276622.8,\n",
       " -21063149393076.055,\n",
       " 2749734439800.0913,\n",
       " 7.435693991076114,\n",
       " -21.64460663638834,\n",
       " -0.6148874528867796,\n",
       " -1.8118780485840622,\n",
       " 2.716463539155723,\n",
       " 14.233266190806608]"
      ]
     },
     "execution_count": 19,
     "metadata": {},
     "output_type": "execute_result"
    }
   ],
   "source": [
    "coefs"
   ]
  },
  {
   "cell_type": "code",
   "execution_count": 23,
   "metadata": {},
   "outputs": [
    {
     "name": "stdout",
     "output_type": "stream",
     "text": [
      "Living Wage: 2.872892562346159\n",
      "Poverty Wage: 68808826898247.48\n",
      "Minimum Wage: -2.6011860444291575\n",
      "Median_Household_Income_2019: -27.82689514850989\n",
      "Med_HH_Income_Percent_of_State_Total_2019: -10.211539804828783\n",
      "5_year_unemployment_delta: -21.546522024426693\n",
      "population_2020: 2.813709889883791\n",
      "10_year_pop_delta: 15.702891325750674\n",
      "20_year_pop_delta: 5.998524632757295\n",
      "rucc_Metro - Counties in metro areas of 1 million population or more                                                                                                                                         : 433927235948132.2\n",
      "rucc_Metro - Counties in metro areas of 250,000 to 1 million population                                                                                                                                      : 466704881845101.56\n",
      "rucc_Metro - Counties in metro areas of fewer than 250,000 population                                                                                                                                        : 453329528443243.6\n",
      "rucc_Nonmetro - Completely rural or less than 2,500 urban population, adjacent to a metro area                                                                                                               : 112017247061287.83\n",
      "rucc_Nonmetro - Completely rural or less than 2,500 urban population, not adjacent to a metro area                                                                                                           : 478613242380791.56\n",
      "rucc_Nonmetro - Urban population of 2,500 to 19,999, adjacent to a metro area                                                                                                                                : 560015197118831.4\n",
      "rucc_Nonmetro - Urban population of 2,500 to 19,999, not adjacent to a metro area                                                                                                                            : 496680958276622.8\n",
      "rucc_Nonmetro - Urban population of 20,000 or more, adjacent to a metro area                                                                                                                                 : -21063149393076.055\n",
      "rucc_Nonmetro - Urban population of 20,000 or more, not adjacent to a metro area                                                                                                                             : 2749734439800.0913\n",
      "less_than_hs_10k: 7.435693991076114\n",
      "hs_diploma_only_10k: -21.64460663638834\n",
      "some_college_or_associates_10k: -0.6148874528867796\n",
      "bachelors_or_higher_10k: -1.8118780485840622\n",
      "Employed_2019_10k: 2.716463539155723\n",
      "Unemployed_2019_10k: 14.233266190806608\n"
     ]
    }
   ],
   "source": [
    "for i in range(1,len(coefs)):\n",
    "    print(f\"{X.columns[i]}: {coefs[i]}\")"
   ]
  }
 ],
 "metadata": {
  "interpreter": {
   "hash": "3b32922ae442944bae51de5c420d7545d4126864cdc0e7cb358b7d9924f39d3e"
  },
  "kernelspec": {
   "display_name": "Python 3.9.6 64-bit ('PythonData': conda)",
   "language": "python",
   "name": "python3"
  },
  "language_info": {
   "codemirror_mode": {
    "name": "ipython",
    "version": 3
   },
   "file_extension": ".py",
   "mimetype": "text/x-python",
   "name": "python",
   "nbconvert_exporter": "python",
   "pygments_lexer": "ipython3",
   "version": "3.9.6"
  },
  "orig_nbformat": 4
 },
 "nbformat": 4,
 "nbformat_minor": 2
}
