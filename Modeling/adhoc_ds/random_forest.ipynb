{
 "cells": [
  {
   "cell_type": "code",
   "execution_count": 1,
   "metadata": {},
   "outputs": [],
   "source": [
    "import pandas as pd\n",
    "import numpy as np\n",
    "import matplotlib.pyplot as plt"
   ]
  },
  {
   "cell_type": "code",
   "execution_count": 2,
   "metadata": {},
   "outputs": [],
   "source": [
    "df = pd.read_csv(\"../../Resources/ML_Ready_Data/total_crime_adhoc.csv\")"
   ]
  },
  {
   "cell_type": "code",
   "execution_count": 3,
   "metadata": {},
   "outputs": [],
   "source": [
    "from scipy import stats\n",
    "def normality_clean(df, z, col):\n",
    "    #check if col parameter is priovided\n",
    "    if col != None:\n",
    "        df = df.loc[df[col] > 0]\n",
    "        print(\"FYI, this is gonna drop dummies with 0 values\")\n",
    "    #drop all n_bound outliers\n",
    "    df = df[(np.abs(stats.zscore(df)) < z).all(axis=1)]\n",
    "    return df"
   ]
  },
  {
   "cell_type": "code",
   "execution_count": 4,
   "metadata": {},
   "outputs": [
    {
     "name": "stdout",
     "output_type": "stream",
     "text": [
      "FYI, this is gonna drop dummies with 0 values\n"
     ]
    }
   ],
   "source": [
    "df_norm = normality_clean(df, 3, \"total_crime_10k\")"
   ]
  },
  {
   "cell_type": "code",
   "execution_count": 5,
   "metadata": {},
   "outputs": [],
   "source": [
    "def prep_X_y(df, y_col):\n",
    "    X = df.drop([y_col, \"fips_state_county_code\"], axis=1)\n",
    "    y = df[y_col]\n",
    "    return X, y"
   ]
  },
  {
   "cell_type": "code",
   "execution_count": 6,
   "metadata": {},
   "outputs": [],
   "source": [
    "from sklearn.model_selection import train_test_split\n",
    "from sklearn.preprocessing import StandardScaler\n",
    "from sklearn.ensemble import RandomForestRegressor\n",
    "def random_forest_regressor(dataset, y_val):\n",
    "    X, y = prep_X_y(dataset, y_val)\n",
    "    X_train, X_test, y_train, y_test = train_test_split(X, y, test_size=0.2, random_state=42)\n",
    "    sc = StandardScaler()\n",
    "    X_train = sc.fit_transform(X_train)\n",
    "    X_test = sc.transform(X_test)\n",
    "    reg = RandomForestRegressor(n_estimators=250, max_leaf_nodes=250, random_state=42)\n",
    "    reg.fit(X_train, y_train)\n",
    "    print(f'train: {reg.score(X_train, y_train)} test: {reg.score(X_test, y_test)}')\n",
    "    plt.scatter(y_train, reg.predict(X_train), color='blue')\n",
    "    plt.scatter(y_test, reg.predict(X_test), color='red')\n",
    "    plt.show()\n",
    "    print(\"--------------------\")"
   ]
  },
  {
   "cell_type": "code",
   "execution_count": 7,
   "metadata": {},
   "outputs": [
    {
     "name": "stdout",
     "output_type": "stream",
     "text": [
      "train: 0.836389919093589 test: 0.22241985974941536\n"
     ]
    },
    {
     "data": {
      "image/png": "[encoded data removed]",
      "text/plain": [
       "<Figure size 432x288 with 1 Axes>"
      ]
     },
     "metadata": {
      "needs_background": "light"
     },
     "output_type": "display_data"
    },
    {
     "name": "stdout",
     "output_type": "stream",
     "text": [
      "--------------------\n"
     ]
    }
   ],
   "source": [
    "random_forest_regressor(df_norm, \"total_crime_10k\")"
   ]
  },
  {
   "cell_type": "code",
   "execution_count": 8,
   "metadata": {},
   "outputs": [],
   "source": [
    "X, y = prep_X_y(df_norm, \"total_crime_10k\")\n",
    "X_train, X_test, y_train, y_test = train_test_split(X, y, test_size=0.2, random_state=42)"
   ]
  },
  {
   "cell_type": "code",
   "execution_count": 9,
   "metadata": {},
   "outputs": [
    {
     "name": "stdout",
     "output_type": "stream",
     "text": [
      "For 100 leaf nodes:::: train: 0.6688363291050374 test: 0.22294287613964658\n",
      "--------------------\n",
      "For 110 leaf nodes:::: train: 0.6898132591679651 test: 0.22088706344420417\n",
      "--------------------\n",
      "For 120 leaf nodes:::: train: 0.7079662526363184 test: 0.22231885657258554\n",
      "--------------------\n",
      "For 130 leaf nodes:::: train: 0.7241006880784884 test: 0.22406935161926667\n",
      "--------------------\n",
      "For 140 leaf nodes:::: train: 0.7381670071976204 test: 0.22401684205192696\n",
      "--------------------\n",
      "For 150 leaf nodes:::: train: 0.75123164088613 test: 0.22371967056285402\n",
      "--------------------\n",
      "For 160 leaf nodes:::: train: 0.7630233007306179 test: 0.22368183965463584\n",
      "--------------------\n",
      "For 170 leaf nodes:::: train: 0.7739303529131307 test: 0.22511346072083516\n",
      "--------------------\n",
      "For 180 leaf nodes:::: train: 0.7840527209890426 test: 0.22507629154581987\n",
      "--------------------\n",
      "For 190 leaf nodes:::: train: 0.7929525496657177 test: 0.22582689952315682\n",
      "--------------------\n",
      "For 200 leaf nodes:::: train: 0.8012253110013077 test: 0.2241041789415007\n",
      "--------------------\n",
      "For 210 leaf nodes:::: train: 0.8085879806722808 test: 0.22165825839909326\n",
      "--------------------\n",
      "For 220 leaf nodes:::: train: 0.8151999876649487 test: 0.21982619340523457\n",
      "--------------------\n",
      "For 230 leaf nodes:::: train: 0.8212883749207317 test: 0.2197761065895545\n",
      "--------------------\n",
      "For 240 leaf nodes:::: train: 0.82656442974146 test: 0.2194205955155203\n",
      "--------------------\n"
     ]
    }
   ],
   "source": [
    "for i in range (100, 250, 10):\n",
    "    sc = StandardScaler()\n",
    "    X_train = sc.fit_transform(X_train)\n",
    "    X_test = sc.transform(X_test)\n",
    "    reg = RandomForestRegressor(n_estimators=100, max_leaf_nodes=i, random_state=42)\n",
    "    reg.fit(X_train, y_train)\n",
    "    print(f'For {i} leaf nodes:::: train: {reg.score(X_train, y_train)} test: {reg.score(X_test, y_test)}')\n",
    "    # plt.scatter(y_train, reg.predict(X_train), color='blue')\n",
    "    # plt.show()\n",
    "    print(\"--------------------\")"
   ]
  }
 ],
 "metadata": {
  "interpreter": {
   "hash": "3b32922ae442944bae51de5c420d7545d4126864cdc0e7cb358b7d9924f39d3e"
  },
  "kernelspec": {
   "display_name": "Python 3.9.6 64-bit ('PythonData': conda)",
   "language": "python",
   "name": "python3"
  },
  "language_info": {
   "codemirror_mode": {
    "name": "ipython",
    "version": 3
   },
   "file_extension": ".py",
   "mimetype": "text/x-python",
   "name": "python",
   "nbconvert_exporter": "python",
   "pygments_lexer": "ipython3",
   "version": "3.9.6"
  },
  "orig_nbformat": 4
 },
 "nbformat": 4,
 "nbformat_minor": 2
}
