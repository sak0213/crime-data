{
 "cells": [
  {
   "cell_type": "code",
   "execution_count": 1,
   "metadata": {},
   "outputs": [],
   "source": [
    "import pandas as pd\n",
    "import numpy as np\n",
    "import matplotlib.pyplot as plt"
   ]
  },
  {
   "cell_type": "code",
   "execution_count": 2,
   "metadata": {},
   "outputs": [],
   "source": [
    "df = pd.read_csv(\"../../Resources/ML_Ready_Data/total_crime_adhoc_10k.csv\")"
   ]
  },
  {
   "cell_type": "code",
   "execution_count": 3,
   "metadata": {},
   "outputs": [],
   "source": [
    "from scipy import stats\n",
    "def normality_clean(df, z, col):\n",
    "    #check if col parameter is priovided\n",
    "    if col != None:\n",
    "        df = df.loc[df[col] > 0]\n",
    "        print(\"FYI, this is gonna drop dummies with 0 values\")\n",
    "    #drop all n_bound outliers\n",
    "    df = df[(np.abs(stats.zscore(df)) < z).all(axis=1)]\n",
    "    return df"
   ]
  },
  {
   "cell_type": "code",
   "execution_count": 4,
   "metadata": {},
   "outputs": [
    {
     "name": "stdout",
     "output_type": "stream",
     "text": [
      "FYI, this is gonna drop dummies with 0 values\n"
     ]
    }
   ],
   "source": [
    "df_norm = normality_clean(df, 3, \"total_crime_10k\")"
   ]
  },
  {
   "cell_type": "code",
   "execution_count": 5,
   "metadata": {},
   "outputs": [],
   "source": [
    "def prep_X_y(df, y_col):\n",
    "    X = df.drop([y_col, \"fips_state_county_code\"], axis=1)\n",
    "    y = df[y_col]\n",
    "    return X, y"
   ]
  },
  {
   "cell_type": "code",
   "execution_count": 15,
   "metadata": {},
   "outputs": [],
   "source": [
    "from sklearn.model_selection import train_test_split\n",
    "from sklearn.preprocessing import StandardScaler\n",
    "from sklearn.ensemble import RandomForestRegressor\n",
    "def random_forest_regressor(dataset, y_val):\n",
    "    X, y = prep_X_y(dataset, y_val)\n",
    "    X_train, X_test, y_train, y_test = train_test_split(X, y, test_size=0.2, random_state=42)\n",
    "    sc = StandardScaler()\n",
    "    X_train = sc.fit_transform(X_train)\n",
    "    X_test = sc.transform(X_test)\n",
    "    reg = RandomForestRegressor(n_estimators=250, max_leaf_nodes=100, random_state=42)\n",
    "    reg.fit(X_train, y_train)\n",
    "    print(f'train: {reg.score(X_train, y_train)} test: {reg.score(X_test, y_test)}')\n",
    "    plt.scatter(y_train, reg.predict(X_train), color='blue')\n",
    "    plt.scatter(y_test, reg.predict(X_test), color='red')\n",
    "    plt.show()\n",
    "    print(\"--------------------\")"
   ]
  },
  {
   "cell_type": "code",
   "execution_count": 16,
   "metadata": {},
   "outputs": [
    {
     "name": "stdout",
     "output_type": "stream",
     "text": [
      "train: 0.714085846720071 test: 0.2770817047893904\n"
     ]
    },
    {
     "data": {
      "image/png": "[encoded data removed]",
      "text/plain": [
       "<Figure size 432x288 with 1 Axes>"
      ]
     },
     "metadata": {
      "needs_background": "light"
     },
     "output_type": "display_data"
    },
    {
     "name": "stdout",
     "output_type": "stream",
     "text": [
      "--------------------\n"
     ]
    }
   ],
   "source": [
    "random_forest_regressor(df_norm, \"total_crime_10k\")"
   ]
  },
  {
   "cell_type": "code",
   "execution_count": 8,
   "metadata": {},
   "outputs": [],
   "source": [
    "X, y = prep_X_y(df_norm, \"total_crime_10k\")\n",
    "X_train, X_test, y_train, y_test = train_test_split(X, y, test_size=0.2, random_state=42)"
   ]
  },
  {
   "cell_type": "code",
   "execution_count": 10,
   "metadata": {},
   "outputs": [
    {
     "name": "stdout",
     "output_type": "stream",
     "text": [
      "For 100 estimators:::: train: 0.7107438720932759 test: 0.273443919982187\n",
      "--------------------\n",
      "For 110 estimators:::: train: 0.7117394419221834 test: 0.2737278588237956\n",
      "--------------------\n",
      "For 120 estimators:::: train: 0.7111865934497239 test: 0.27310641738811736\n",
      "--------------------\n",
      "For 130 estimators:::: train: 0.7110932186871711 test: 0.27235208110994147\n",
      "--------------------\n",
      "For 140 estimators:::: train: 0.711529273469689 test: 0.27253038698242504\n",
      "--------------------\n",
      "For 150 estimators:::: train: 0.71197556136754 test: 0.2727761059669076\n",
      "--------------------\n",
      "For 160 estimators:::: train: 0.7119456408717484 test: 0.27382571966676905\n",
      "--------------------\n",
      "For 170 estimators:::: train: 0.7123893595365753 test: 0.2735957522442508\n",
      "--------------------\n",
      "For 180 estimators:::: train: 0.7127619695999527 test: 0.27378080112339154\n",
      "--------------------\n",
      "For 190 estimators:::: train: 0.7130986382793311 test: 0.27492252946024553\n",
      "--------------------\n",
      "For 200 estimators:::: train: 0.7136747998578918 test: 0.27603667594534276\n",
      "--------------------\n",
      "For 210 estimators:::: train: 0.7138778959766605 test: 0.2769054537591207\n",
      "--------------------\n",
      "For 220 estimators:::: train: 0.7144787093549079 test: 0.2769497157320113\n",
      "--------------------\n",
      "For 230 estimators:::: train: 0.7145600205284315 test: 0.27763751444856055\n",
      "--------------------\n",
      "For 240 estimators:::: train: 0.7141415794239732 test: 0.27633770724555473\n",
      "--------------------\n"
     ]
    }
   ],
   "source": [
    "for i in range (100, 250, 10):\n",
    "    sc = StandardScaler()\n",
    "    X_train = sc.fit_transform(X_train)\n",
    "    X_test = sc.transform(X_test)\n",
    "    reg = RandomForestRegressor(n_estimators=i, max_leaf_nodes=100, random_state=42)\n",
    "    reg.fit(X_train, y_train)\n",
    "    print(f'For {i} estimators:::: train: {reg.score(X_train, y_train)} test: {reg.score(X_test, y_test)}')\n",
    "    # plt.scatter(y_train, reg.predict(X_train), color='blue')\n",
    "    # plt.show()\n",
    "    print(\"--------------------\")"
   ]
  }
 ],
 "metadata": {
  "interpreter": {
   "hash": "3b32922ae442944bae51de5c420d7545d4126864cdc0e7cb358b7d9924f39d3e"
  },
  "kernelspec": {
   "display_name": "Python 3.9.6 64-bit ('PythonData': conda)",
   "language": "python",
   "name": "python3"
  },
  "language_info": {
   "codemirror_mode": {
    "name": "ipython",
    "version": 3
   },
   "file_extension": ".py",
   "mimetype": "text/x-python",
   "name": "python",
   "nbconvert_exporter": "python",
   "pygments_lexer": "ipython3",
   "version": "3.9.6"
  },
  "orig_nbformat": 4
 },
 "nbformat": 4,
 "nbformat_minor": 2
}
